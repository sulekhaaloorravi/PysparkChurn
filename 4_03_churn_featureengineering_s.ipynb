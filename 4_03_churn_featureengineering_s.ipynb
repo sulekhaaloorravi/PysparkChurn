{
 "cells": [
  {
   "cell_type": "markdown",
   "metadata": {},
   "source": [
    "<html>\n",
    "<font color = green size = 6>\n",
    "<b>\n",
    "Data Preparation to Predict player churn\n",
    "</b>\n",
    "</font>\n",
    "</html>"
   ]
  },
  {
   "cell_type": "markdown",
   "metadata": {},
   "source": [
    "<html>\n",
    "<font color = Purple size = 4>\n",
    "<b> Set up the Pyspark environment required for running the model</b>\n",
    "</font>\n",
    "</html>"
   ]
  },
  {
   "cell_type": "code",
   "execution_count": 5,
   "metadata": {
    "collapsed": true
   },
   "outputs": [],
   "source": [
    "#Pyspark setup\n",
    "from pyspark import SparkContext\n",
    "from pyspark.sql import SQLContext\n",
    "from pyspark.sql import Row, SparkSession\n",
    "from pyspark.sql.types import NumericType\n",
    "from pyspark.sql.functions import *"
   ]
  },
  {
   "cell_type": "code",
   "execution_count": 6,
   "metadata": {},
   "outputs": [],
   "source": [
    "sc = SparkContext.getOrCreate()\n",
    "spark = SQLContext(sc)"
   ]
  },
  {
   "cell_type": "markdown",
   "metadata": {},
   "source": [
    "<html>\n",
    "<font color = Red size = 6>\n",
    "<b> Feature Engineering</b>\n",
    "</font>\n",
    "</html>"
   ]
  },
  {
   "cell_type": "markdown",
   "metadata": {},
   "source": [
    "<html>\n",
    "<font color = blue>\n",
    "A very extensive and detailed feature engineering is performed to derive features for Churn prediction.\n",
    "</font>\n",
    "</html>"
   ]
  },
  {
   "cell_type": "markdown",
   "metadata": {},
   "source": [
    "<html>\n",
    "<font color = blue>\n",
    "Load cleaned up log files as a Spark dataframe.\n",
    "</font>\n",
    "</html>"
   ]
  },
  {
   "cell_type": "code",
   "execution_count": 7,
   "metadata": {
    "collapsed": true
   },
   "outputs": [],
   "source": [
    "newlogs_df = spark.read.csv(path = \"newlogs.csv\", header = True,inferSchema = True)"
   ]
  },
  {
   "cell_type": "code",
   "execution_count": 33,
   "metadata": {},
   "outputs": [
    {
     "name": "stdout",
     "output_type": "stream",
     "text": [
      "+---+------------------+--------+--------+-----+-----+----+--------+--------+\n",
      "|_c0|         QueryTime|QuerySeq|AvatarID|Guild|Level|Race|   Class|    Zone|\n",
      "+---+------------------+--------+--------+-----+-----+----+--------+--------+\n",
      "|  0| 12/31/05 23:59:46|       1|       0|     |    5| Orc| Warrior| Durotar|\n",
      "|  1| 12/31/05 23:59:46|       1|       1|     |    9| Orc|  Shaman| Durotar|\n",
      "|  2| 12/31/05 23:59:52|       2|       2|     |   13| Orc|  Shaman| Durotar|\n",
      "|  3| 12/31/05 23:59:52|       2|       3|    0|   14| Orc| Warrior| Durotar|\n",
      "|  4| 12/31/05 23:59:52|       2|       4|     |   14| Orc|  Shaman| Durotar|\n",
      "+---+------------------+--------+--------+-----+-----+----+--------+--------+\n",
      "only showing top 5 rows\n",
      "\n"
     ]
    }
   ],
   "source": [
    "newlogs_df.show(5)"
   ]
  },
  {
   "cell_type": "markdown",
   "metadata": {},
   "source": [
    "<html>\n",
    "<font color = blue>\n",
    "Data is in minutes for each AvatarID. So, first count AvatarIDs by grouping them into minutes.\n",
    "</font>\n",
    "</html>"
   ]
  },
  {
   "cell_type": "code",
   "execution_count": 8,
   "metadata": {},
   "outputs": [],
   "source": [
    "df2 = newlogs_df.groupBy(['AvatarID','QueryTime']).count()"
   ]
  },
  {
   "cell_type": "markdown",
   "metadata": {},
   "source": [
    "<html>\n",
    "<font color = blue>\n",
    "Strip time from Query Time.\n",
    "</font>\n",
    "</html>"
   ]
  },
  {
   "cell_type": "code",
   "execution_count": 9,
   "metadata": {},
   "outputs": [],
   "source": [
    "df2 = df2.withColumn('Date', df2['QueryTime'].substr(1,9))"
   ]
  },
  {
   "cell_type": "code",
   "execution_count": 36,
   "metadata": {},
   "outputs": [
    {
     "name": "stdout",
     "output_type": "stream",
     "text": [
      "+--------+------------------+-----+---------+\n",
      "|AvatarID|         QueryTime|count|     Date|\n",
      "+--------+------------------+-----+---------+\n",
      "|      41| 01/01/06 00:00:12|    2| 01/01/06|\n",
      "|     161| 01/01/06 00:11:08|    2| 01/01/06|\n",
      "|     311| 01/01/06 00:22:53|    2| 01/01/06|\n",
      "|     348| 01/01/06 00:22:58|    2| 01/01/06|\n",
      "|     382| 01/01/06 00:33:20|    2| 01/01/06|\n",
      "+--------+------------------+-----+---------+\n",
      "only showing top 5 rows\n",
      "\n"
     ]
    }
   ],
   "source": [
    "df2.show(5)"
   ]
  },
  {
   "cell_type": "markdown",
   "metadata": {},
   "source": [
    "<html>\n",
    "<font color = blue>\n",
    "Now, take count of each player by grouping them by date.\n",
    "</font>\n",
    "</html>"
   ]
  },
  {
   "cell_type": "code",
   "execution_count": 10,
   "metadata": {
    "collapsed": true
   },
   "outputs": [],
   "source": [
    "PlayerbyDate = df2.groupBy(['Date','AvatarID']).agg({\"AvatarID\": \"count\"})"
   ]
  },
  {
   "cell_type": "code",
   "execution_count": 11,
   "metadata": {
    "collapsed": true
   },
   "outputs": [],
   "source": [
    "PlayerbyDate = PlayerbyDate.select('Date','AvatarID')"
   ]
  },
  {
   "cell_type": "code",
   "execution_count": 13,
   "metadata": {},
   "outputs": [],
   "source": [
    "PlayerbyDate = PlayerbyDate.withColumn(\"Date_Unix\", to_timestamp(PlayerbyDate['Date'],' MM/dd/yy'))"
   ]
  },
  {
   "cell_type": "code",
   "execution_count": 14,
   "metadata": {},
   "outputs": [],
   "source": [
    "PlayerbyDate = PlayerbyDate.select('Date_Unix','AvatarID')"
   ]
  },
  {
   "cell_type": "code",
   "execution_count": 15,
   "metadata": {
    "collapsed": true
   },
   "outputs": [],
   "source": [
    "PlayerbyDate = PlayerbyDate.withColumnRenamed('Date_Unix','Date')"
   ]
  },
  {
   "cell_type": "code",
   "execution_count": 16,
   "metadata": {},
   "outputs": [],
   "source": [
    "PlayerbyDays = PlayerbyDate.groupBy(['AvatarID']).agg({\"AvatarID\": \"count\"})"
   ]
  },
  {
   "cell_type": "code",
   "execution_count": 17,
   "metadata": {},
   "outputs": [],
   "source": [
    "PlayerbyDays = PlayerbyDays.withColumnRenamed('count(AvatarID)','DaysPlayed')"
   ]
  },
  {
   "cell_type": "code",
   "execution_count": 18,
   "metadata": {
    "collapsed": true
   },
   "outputs": [],
   "source": [
    "wow_data = newlogs_df.select('QueryTime','AvatarID','Guild','Level','Race','Class','Zone')"
   ]
  },
  {
   "cell_type": "code",
   "execution_count": 19,
   "metadata": {
    "collapsed": true
   },
   "outputs": [],
   "source": [
    "wow_data = wow_data .withColumn('Date', df2['QueryTime'].substr(1,9))"
   ]
  },
  {
   "cell_type": "code",
   "execution_count": 49,
   "metadata": {},
   "outputs": [
    {
     "name": "stdout",
     "output_type": "stream",
     "text": [
      "+------------------+--------+-----+-----+----+--------+--------+---------+\n",
      "|         QueryTime|AvatarID|Guild|Level|Race|   Class|    Zone|     Date|\n",
      "+------------------+--------+-----+-----+----+--------+--------+---------+\n",
      "| 12/31/05 23:59:46|       0|     |    5| Orc| Warrior| Durotar| 12/31/05|\n",
      "| 12/31/05 23:59:46|       1|     |    9| Orc|  Shaman| Durotar| 12/31/05|\n",
      "| 12/31/05 23:59:52|       2|     |   13| Orc|  Shaman| Durotar| 12/31/05|\n",
      "| 12/31/05 23:59:52|       3|    0|   14| Orc| Warrior| Durotar| 12/31/05|\n",
      "| 12/31/05 23:59:52|       4|     |   14| Orc|  Shaman| Durotar| 12/31/05|\n",
      "+------------------+--------+-----+-----+----+--------+--------+---------+\n",
      "only showing top 5 rows\n",
      "\n"
     ]
    }
   ],
   "source": [
    "wow_data.show(5)"
   ]
  },
  {
   "cell_type": "markdown",
   "metadata": {},
   "source": [
    "<html>\n",
    "<font color = blue>\n",
    "Create dummy variables and populate binary values for Race and Class\n",
    "</font>\n",
    "</html>"
   ]
  },
  {
   "cell_type": "code",
   "execution_count": 20,
   "metadata": {
    "collapsed": true
   },
   "outputs": [],
   "source": [
    "race_dummy = wow_data.select(\"Race\").distinct().rdd.flatMap(lambda x: x).collect()"
   ]
  },
  {
   "cell_type": "code",
   "execution_count": 21,
   "metadata": {
    "collapsed": true
   },
   "outputs": [],
   "source": [
    "race_exprs = [when(col(\"Race\") == category, 1).otherwise(0).alias(category)\n",
    "         for category in race_dummy]"
   ]
  },
  {
   "cell_type": "code",
   "execution_count": 22,
   "metadata": {
    "collapsed": true
   },
   "outputs": [],
   "source": [
    "race_wow = wow_data.select(\"AvatarID\", *race_exprs)"
   ]
  },
  {
   "cell_type": "code",
   "execution_count": 23,
   "metadata": {},
   "outputs": [],
   "source": [
    "class_dummy = wow_data.select(\"Class\").distinct().rdd.flatMap(lambda x: x).collect()"
   ]
  },
  {
   "cell_type": "code",
   "execution_count": 24,
   "metadata": {
    "collapsed": true
   },
   "outputs": [],
   "source": [
    "class_exprs = [when(col(\"Class\") == category, 1).otherwise(0).alias(category)\n",
    "         for category in class_dummy]"
   ]
  },
  {
   "cell_type": "code",
   "execution_count": 25,
   "metadata": {
    "collapsed": true
   },
   "outputs": [],
   "source": [
    "class_wow = wow_data.select(\"AvatarID\", *class_exprs)"
   ]
  },
  {
   "cell_type": "code",
   "execution_count": 97,
   "metadata": {},
   "outputs": [
    {
     "name": "stdout",
     "output_type": "stream",
     "text": [
      "+--------+--------+------+-------+-------------+--------+------+-----+-------+--------+-------+\n",
      "|AvatarID| Warlock| Druid| Hunter| Death Knight| Paladin| Rogue| Mage| Priest| Warrior| Shaman|\n",
      "+--------+--------+------+-------+-------------+--------+------+-----+-------+--------+-------+\n",
      "|       0|       0|     0|      0|            0|       0|     0|    0|      0|       1|      0|\n",
      "|       1|       0|     0|      0|            0|       0|     0|    0|      0|       0|      1|\n",
      "|       2|       0|     0|      0|            0|       0|     0|    0|      0|       0|      1|\n",
      "|       3|       0|     0|      0|            0|       0|     0|    0|      0|       1|      0|\n",
      "|       4|       0|     0|      0|            0|       0|     0|    0|      0|       0|      1|\n",
      "|       5|       0|     0|      1|            0|       0|     0|    0|      0|       0|      0|\n",
      "|       6|       1|     0|      0|            0|       0|     0|    0|      0|       0|      0|\n",
      "|       7|       0|     0|      1|            0|       0|     0|    0|      0|       0|      0|\n",
      "|       8|       0|     0|      0|            0|       0|     0|    0|      0|       1|      0|\n",
      "|       9|       0|     0|      1|            0|       0|     0|    0|      0|       0|      0|\n",
      "|      10|       0|     0|      1|            0|       0|     0|    0|      0|       0|      0|\n",
      "|      11|       0|     0|      1|            0|       0|     0|    0|      0|       0|      0|\n",
      "|      12|       0|     0|      1|            0|       0|     0|    0|      0|       0|      0|\n",
      "|      13|       0|     0|      0|            0|       0|     0|    0|      0|       1|      0|\n",
      "|      14|       0|     0|      0|            0|       0|     0|    0|      0|       1|      0|\n",
      "|      15|       0|     0|      1|            0|       0|     0|    0|      0|       0|      0|\n",
      "|      16|       1|     0|      0|            0|       0|     0|    0|      0|       0|      0|\n",
      "|      17|       0|     0|      1|            0|       0|     0|    0|      0|       0|      0|\n",
      "|      18|       0|     0|      1|            0|       0|     0|    0|      0|       0|      0|\n",
      "|      19|       0|     0|      0|            0|       0|     1|    0|      0|       0|      0|\n",
      "+--------+--------+------+-------+-------------+--------+------+-----+-------+--------+-------+\n",
      "only showing top 20 rows\n",
      "\n"
     ]
    }
   ],
   "source": [
    "class_wow"
   ]
  },
  {
   "cell_type": "markdown",
   "metadata": {},
   "source": [
    "<html>\n",
    "<font color = blue>\n",
    "Use df3 to calculate login dates\n",
    "</font>\n",
    "</html>"
   ]
  },
  {
   "cell_type": "code",
   "execution_count": 26,
   "metadata": {},
   "outputs": [],
   "source": [
    "PlayerbyDate.createOrReplaceTempView(\"playerbydate\")"
   ]
  },
  {
   "cell_type": "code",
   "execution_count": 27,
   "metadata": {
    "collapsed": true
   },
   "outputs": [],
   "source": [
    "PlayerbyDays.createOrReplaceTempView(\"playerbydays\")"
   ]
  },
  {
   "cell_type": "code",
   "execution_count": 28,
   "metadata": {
    "collapsed": true
   },
   "outputs": [],
   "source": [
    "wow_data.createOrReplaceTempView(\"completedata\")"
   ]
  },
  {
   "cell_type": "code",
   "execution_count": 29,
   "metadata": {},
   "outputs": [],
   "source": [
    "dfx = spark.sql(\"select playerbydate.AvatarID, min(PlayerbyDate.Date) as FirstLoginDate, max(PlayerbyDate.Date) as LastLoginDate from playerbydate group by playerbydate.AvatarID\")"
   ]
  },
  {
   "cell_type": "code",
   "execution_count": 30,
   "metadata": {},
   "outputs": [],
   "source": [
    "timeformat = \"yyyy-MM-dd HH:mm:ss\"\n",
    "tenure = unix_timestamp('LastLoginDate', format = timeformat) - unix_timestamp('FirstLoginDate', format = timeformat)\n",
    "dfx = dfx.withColumn('PlayerTenure',tenure/(24*60*60))"
   ]
  },
  {
   "cell_type": "code",
   "execution_count": 67,
   "metadata": {},
   "outputs": [
    {
     "name": "stdout",
     "output_type": "stream",
     "text": [
      "+--------+-------------------+-------------------+------------+\n",
      "|AvatarID|     FirstLoginDate|      LastLoginDate|PlayerTenure|\n",
      "+--------+-------------------+-------------------+------------+\n",
      "|   11033|2006-03-30 00:00:00|2006-09-06 00:00:00|       160.0|\n",
      "|   18024|2006-07-19 00:00:00|2008-11-09 00:00:00|       844.0|\n",
      "|    1342|2006-01-01 00:00:00|2009-01-07 00:00:00|      1102.0|\n",
      "|   33412|2007-03-25 00:00:00|2008-04-02 00:00:00|       374.0|\n",
      "|   30970|2007-02-11 00:00:00|2008-10-06 00:00:00|       603.0|\n",
      "+--------+-------------------+-------------------+------------+\n",
      "only showing top 5 rows\n",
      "\n"
     ]
    }
   ],
   "source": [
    "dfx"
   ]
  },
  {
   "cell_type": "code",
   "execution_count": 31,
   "metadata": {},
   "outputs": [],
   "source": [
    "from pyspark.sql.functions import lit\n",
    "lastlogcapture = '2009-01-10 00:00:00'\n",
    "dfx = dfx.withColumn('LastLogCapture',lit(lastlogcapture))"
   ]
  },
  {
   "cell_type": "code",
   "execution_count": 32,
   "metadata": {},
   "outputs": [],
   "source": [
    "nologin = unix_timestamp('LastLogCapture', format = timeformat) - unix_timestamp('LastLoginDate', format = timeformat)\n",
    "dfx = dfx.withColumn('NotLoggedInFrom',nologin/(24*60*60))"
   ]
  },
  {
   "cell_type": "code",
   "execution_count": 78,
   "metadata": {},
   "outputs": [
    {
     "name": "stdout",
     "output_type": "stream",
     "text": [
      "+--------+-------------------+-------------------+------------+---------------+-------------------+\n",
      "|AvatarID|     FirstLoginDate|      LastLoginDate|PlayerTenure|NotLoggedInFrom|     LastLogCapture|\n",
      "+--------+-------------------+-------------------+------------+---------------+-------------------+\n",
      "|   11033|2006-03-30 00:00:00|2006-09-06 00:00:00|       160.0|          857.0|2009-01-10 00:00:00|\n",
      "|   18024|2006-07-19 00:00:00|2008-11-09 00:00:00|       844.0|           62.0|2009-01-10 00:00:00|\n",
      "|    1342|2006-01-01 00:00:00|2009-01-07 00:00:00|      1102.0|            3.0|2009-01-10 00:00:00|\n",
      "|   33412|2007-03-25 00:00:00|2008-04-02 00:00:00|       374.0|          283.0|2009-01-10 00:00:00|\n",
      "|   30970|2007-02-11 00:00:00|2008-10-06 00:00:00|       603.0|           96.0|2009-01-10 00:00:00|\n",
      "|    2866|2006-01-07 00:00:00|2009-01-09 00:00:00|      1098.0|            1.0|2009-01-10 00:00:00|\n",
      "|   51393|2007-07-16 00:00:00|2008-10-25 00:00:00|       467.0|           77.0|2009-01-10 00:00:00|\n",
      "|   46465|2007-06-04 00:00:00|2008-11-05 00:00:00|       520.0|           66.0|2009-01-10 00:00:00|\n",
      "|   76110|2008-08-07 00:00:00|2008-08-28 00:00:00|        21.0|          135.0|2009-01-10 00:00:00|\n",
      "|    8638|2006-02-28 00:00:00|2006-06-06 00:00:00|        98.0|          949.0|2009-01-10 00:00:00|\n",
      "|    1645|2006-01-02 00:00:00|2008-11-10 00:00:00|      1043.0|           61.0|2009-01-10 00:00:00|\n",
      "|   36131|2007-04-04 00:00:00|2009-01-06 00:00:00|       643.0|            4.0|2009-01-10 00:00:00|\n",
      "|   22373|2006-11-03 00:00:00|2008-09-11 00:00:00|       678.0|          121.0|2009-01-10 00:00:00|\n",
      "|   71527|2008-04-22 00:00:00|2008-05-12 00:00:00|        20.0|          243.0|2009-01-10 00:00:00|\n",
      "|   34759|2007-04-03 00:00:00|2008-12-17 00:00:00|       624.0|           24.0|2009-01-10 00:00:00|\n",
      "|   60769|2007-10-17 00:00:00|2009-01-02 00:00:00|       443.0|            8.0|2009-01-10 00:00:00|\n",
      "|     463|2006-01-01 00:00:00|2008-03-16 00:00:00|       805.0|          300.0|2009-01-10 00:00:00|\n",
      "|     148|2006-01-01 00:00:00|2008-12-10 00:00:00|      1074.0|           31.0|2009-01-10 00:00:00|\n",
      "|   32414|2007-03-08 00:00:00|2009-01-10 00:00:00|       674.0|            0.0|2009-01-10 00:00:00|\n",
      "|    8389|2006-02-25 00:00:00|2006-03-04 00:00:00|         7.0|         1043.0|2009-01-10 00:00:00|\n",
      "+--------+-------------------+-------------------+------------+---------------+-------------------+\n",
      "only showing top 20 rows\n",
      "\n"
     ]
    }
   ],
   "source": [
    "dfx"
   ]
  },
  {
   "cell_type": "code",
   "execution_count": 33,
   "metadata": {
    "collapsed": true
   },
   "outputs": [],
   "source": [
    "dfx.createOrReplaceTempView(\"datainprog\")"
   ]
  },
  {
   "cell_type": "code",
   "execution_count": 34,
   "metadata": {},
   "outputs": [],
   "source": [
    "dip = spark.sql(\"select datainprog.AvatarID, datainprog.PlayerTenure,case when datainprog.NotLoggedInFrom > 60  then 1 else 0 end as Churn \\\n",
    "                 from datainprog\")"
   ]
  },
  {
   "cell_type": "code",
   "execution_count": 88,
   "metadata": {},
   "outputs": [
    {
     "name": "stdout",
     "output_type": "stream",
     "text": [
      "+--------+------------+-----+\n",
      "|AvatarID|PlayerTenure|Churn|\n",
      "+--------+------------+-----+\n",
      "|   11033|       160.0|    1|\n",
      "|   18024|       844.0|    1|\n",
      "|    1342|      1102.0|    0|\n",
      "|   33412|       374.0|    1|\n",
      "|   30970|       603.0|    1|\n",
      "|    2866|      1098.0|    0|\n",
      "|   51393|       467.0|    1|\n",
      "|   46465|       520.0|    1|\n",
      "|   76110|        21.0|    1|\n",
      "|    8638|        98.0|    1|\n",
      "|    1645|      1043.0|    1|\n",
      "|   36131|       643.0|    0|\n",
      "|   22373|       678.0|    1|\n",
      "|   71527|        20.0|    1|\n",
      "|   34759|       624.0|    0|\n",
      "|   60769|       443.0|    0|\n",
      "|     463|       805.0|    1|\n",
      "|     148|      1074.0|    0|\n",
      "|   32414|       674.0|    0|\n",
      "|    8389|         7.0|    1|\n",
      "+--------+------------+-----+\n",
      "only showing top 20 rows\n",
      "\n"
     ]
    }
   ],
   "source": [
    "dip"
   ]
  },
  {
   "cell_type": "code",
   "execution_count": 35,
   "metadata": {},
   "outputs": [],
   "source": [
    "guildlevel = spark.sql(\"select max(AvatarID) as AvatarID, case when max(Level) <= 40 Then 1 else 2 end as LevelFlag,\\\n",
    "                    case when max(Guild) >= 0 Then 1 else 0 end as GuildFlag\\\n",
    "                       from completedata group by AvatarID order by AvatarID\")               "
   ]
  },
  {
   "cell_type": "code",
   "execution_count": 138,
   "metadata": {},
   "outputs": [
    {
     "data": {
      "text/plain": [
       "70369"
      ]
     },
     "execution_count": 138,
     "metadata": {},
     "output_type": "execute_result"
    }
   ],
   "source": [
    "guildlevel"
   ]
  },
  {
   "cell_type": "code",
   "execution_count": 36,
   "metadata": {},
   "outputs": [],
   "source": [
    "zone_wow = spark.sql(\"select max(AvatarID) as AvatarID, count(Zone) as ZonesPlayed\\\n",
    "                       from completedata group by AvatarID order by AvatarID\") "
   ]
  },
  {
   "cell_type": "code",
   "execution_count": 37,
   "metadata": {
    "collapsed": true
   },
   "outputs": [],
   "source": [
    "zone_wow = zone_wow.drop_duplicates()"
   ]
  },
  {
   "cell_type": "code",
   "execution_count": 221,
   "metadata": {},
   "outputs": [
    {
     "name": "stdout",
     "output_type": "stream",
     "text": [
      "+--------+-----------+\n",
      "|AvatarID|ZonesPlayed|\n",
      "+--------+-----------+\n",
      "|     260|        580|\n",
      "|     443|      22488|\n",
      "|     717|         34|\n",
      "|    1495|        950|\n",
      "|    1509|         61|\n",
      "|    1902|          2|\n",
      "|    1989|         12|\n",
      "|    2011|        128|\n",
      "|    2366|        401|\n",
      "|    2533|          4|\n",
      "|    2702|          2|\n",
      "|    2985|        160|\n",
      "|    3317|          2|\n",
      "|    3577|          4|\n",
      "|    3619|          4|\n",
      "|    3764|         86|\n",
      "|    4371|       5555|\n",
      "|    5453|         64|\n",
      "|    5541|        251|\n",
      "|    5668|          2|\n",
      "+--------+-----------+\n",
      "only showing top 20 rows\n",
      "\n"
     ]
    }
   ],
   "source": [
    "zone_wow"
   ]
  },
  {
   "cell_type": "code",
   "execution_count": 38,
   "metadata": {},
   "outputs": [],
   "source": [
    "class_wow = class_wow.drop_duplicates()"
   ]
  },
  {
   "cell_type": "code",
   "execution_count": 222,
   "metadata": {},
   "outputs": [
    {
     "name": "stdout",
     "output_type": "stream",
     "text": [
      "+--------+-------------+-----------+------------+-----------------+-------------+-----------+----------+------------+-------------+------------+\n",
      "|AvatarID|Class_Warlock|Class_Druid|Class_Hunter|Class_DeathKnight|Class_Paladin|Class_Rogue|Class_Mage|Class_Priest|Class_Warrior|Class_Shaman|\n",
      "+--------+-------------+-----------+------------+-----------------+-------------+-----------+----------+------------+-------------+------------+\n",
      "|      28|            0|          0|           1|                0|            0|          0|         0|           0|            0|           0|\n",
      "|     156|            0|          0|           0|                0|            0|          0|         0|           0|            1|           0|\n",
      "|     361|            0|          0|           0|                0|            0|          0|         0|           1|            0|           0|\n",
      "|     406|            0|          0|           0|                0|            0|          0|         0|           0|            1|           0|\n",
      "|     430|            0|          0|           1|                0|            0|          0|         0|           0|            0|           0|\n",
      "|     698|            0|          0|           0|                0|            0|          1|         0|           0|            0|           0|\n",
      "|     835|            0|          0|           0|                0|            0|          0|         0|           0|            0|           1|\n",
      "|    1177|            0|          0|           0|                0|            0|          0|         1|           0|            0|           0|\n",
      "|    1206|            1|          0|           0|                0|            0|          0|         0|           0|            0|           0|\n",
      "|    1222|            0|          0|           0|                0|            0|          0|         0|           0|            1|           0|\n",
      "|    1254|            1|          0|           0|                0|            0|          0|         0|           0|            0|           0|\n",
      "|    1609|            0|          1|           0|                0|            0|          0|         0|           0|            0|           0|\n",
      "|    2893|            0|          0|           0|                0|            0|          1|         0|           0|            0|           0|\n",
      "|    3085|            0|          0|           0|                0|            0|          1|         0|           0|            0|           0|\n",
      "|    3279|            0|          0|           1|                0|            0|          0|         0|           0|            0|           0|\n",
      "|    3311|            0|          0|           1|                0|            0|          0|         0|           0|            0|           0|\n",
      "|    3541|            1|          0|           0|                0|            0|          0|         0|           0|            0|           0|\n",
      "|    3669|            0|          0|           0|                0|            0|          0|         0|           0|            1|           0|\n",
      "|    3676|            1|          0|           0|                0|            0|          0|         0|           0|            0|           0|\n",
      "|    3687|            0|          0|           0|                0|            0|          0|         0|           0|            1|           0|\n",
      "+--------+-------------+-----------+------------+-----------------+-------------+-----------+----------+------------+-------------+------------+\n",
      "only showing top 20 rows\n",
      "\n"
     ]
    }
   ],
   "source": [
    "class_wow"
   ]
  },
  {
   "cell_type": "code",
   "execution_count": 39,
   "metadata": {
    "collapsed": true
   },
   "outputs": [],
   "source": [
    "race_wow = race_wow.drop_duplicates()"
   ]
  },
  {
   "cell_type": "code",
   "execution_count": null,
   "metadata": {
    "collapsed": true
   },
   "outputs": [],
   "source": [
    "race_wow"
   ]
  },
  {
   "cell_type": "code",
   "execution_count": 40,
   "metadata": {},
   "outputs": [
    {
     "data": {
      "text/plain": [
       "DataFrame[AvatarID: int, PlayerTenure: double, Churn: int]"
      ]
     },
     "execution_count": 40,
     "metadata": {},
     "output_type": "execute_result"
    }
   ],
   "source": [
    "#Churn data\n",
    "dip"
   ]
  },
  {
   "cell_type": "code",
   "execution_count": 41,
   "metadata": {},
   "outputs": [
    {
     "data": {
      "text/plain": [
       "DataFrame[AvatarID: int, LevelFlag: int, GuildFlag: int]"
      ]
     },
     "execution_count": 41,
     "metadata": {},
     "output_type": "execute_result"
    }
   ],
   "source": [
    "#Guild and Level data\n",
    "guildlevel"
   ]
  },
  {
   "cell_type": "code",
   "execution_count": 44,
   "metadata": {},
   "outputs": [
    {
     "data": {
      "text/plain": [
       "DataFrame[AvatarID: int, Class_Warlock: int, Class_Druid: int, Class_Hunter: int, Class_DeathKnight: int, Class_Paladin: int, Class_Rogue: int, Class_Mage: int, Class_Priest: int, Class_Warrior: int, Class_Shaman: int]"
      ]
     },
     "execution_count": 44,
     "metadata": {},
     "output_type": "execute_result"
    }
   ],
   "source": [
    "#Class data\n",
    "class_wow"
   ]
  },
  {
   "cell_type": "code",
   "execution_count": 59,
   "metadata": {
    "collapsed": true
   },
   "outputs": [],
   "source": [
    "class_wow = class_wow.withColumnRenamed(' Warlock','Class_Warlock')\\\n",
    ".withColumnRenamed(' Druid','Class_Druid')\\\n",
    ".withColumnRenamed(' Hunter','Class_Hunter')\\\n",
    ".withColumnRenamed(' Death Knight','Class_DeathKnight')\\\n",
    ".withColumnRenamed(' Paladin','Class_Paladin')\\\n",
    ".withColumnRenamed(' Rogue','Class_Rogue')\\\n",
    ".withColumnRenamed(' Mage','Class_Mage')\\\n",
    ".withColumnRenamed(' Priest','Class_Priest')\\\n",
    ".withColumnRenamed(' Warrior','Class_Warrior')\\\n",
    ".withColumnRenamed(' Shaman','Class_Shaman')\\\n",
    ".withColumnRenamed('AvatarID','Class_AvatarID')"
   ]
  },
  {
   "cell_type": "code",
   "execution_count": 45,
   "metadata": {},
   "outputs": [
    {
     "data": {
      "text/plain": [
       "DataFrame[AvatarID: int,  Orc: int,  Tauren: int,  Undead: int,  Blood Elf: int,  Troll: int]"
      ]
     },
     "execution_count": 45,
     "metadata": {},
     "output_type": "execute_result"
    }
   ],
   "source": [
    "#Race data\n",
    "race_wow"
   ]
  },
  {
   "cell_type": "code",
   "execution_count": 60,
   "metadata": {
    "collapsed": true
   },
   "outputs": [],
   "source": [
    "race_wow = race_wow.withColumnRenamed(' Orc','Race_Orc')\\\n",
    ".withColumnRenamed(' Tauren','Race_Tauren')\\\n",
    ".withColumnRenamed(' Undead','Race_Undead')\\\n",
    ".withColumnRenamed(' Blood Elf','Race_BloodElf')\\\n",
    ".withColumnRenamed(' Troll','Race_Troll')\\\n",
    ".withColumnRenamed('AvatarID','Race_AvatarID')"
   ]
  },
  {
   "cell_type": "code",
   "execution_count": 61,
   "metadata": {},
   "outputs": [
    {
     "data": {
      "text/plain": [
       "DataFrame[AvatarID: int, ZonesPlayed: bigint]"
      ]
     },
     "execution_count": 61,
     "metadata": {},
     "output_type": "execute_result"
    }
   ],
   "source": [
    "#Zone data\n",
    "zone_wow"
   ]
  },
  {
   "cell_type": "code",
   "execution_count": 62,
   "metadata": {},
   "outputs": [
    {
     "data": {
      "text/plain": [
       "DataFrame[AvatarID: int, DaysPlayed: bigint]"
      ]
     },
     "execution_count": 62,
     "metadata": {},
     "output_type": "execute_result"
    }
   ],
   "source": [
    "#No. of days played\n",
    "PlayerbyDays"
   ]
  },
  {
   "cell_type": "code",
   "execution_count": 63,
   "metadata": {},
   "outputs": [],
   "source": [
    "dip.createOrReplaceTempView(\"churndata\")\n",
    "guildlevel.createOrReplaceTempView(\"guilddata\")\n",
    "class_wow.createOrReplaceTempView(\"classdata\")\n",
    "race_wow.createOrReplaceTempView(\"racedata\")\n",
    "zone_wow.createOrReplaceTempView(\"zonedata\")\n",
    "PlayerbyDays.createOrReplaceTempView(\"playersdata\")"
   ]
  },
  {
   "cell_type": "code",
   "execution_count": 64,
   "metadata": {},
   "outputs": [
    {
     "data": {
      "text/plain": [
       "DataFrame[Class_AvatarID: int, Class_Warlock: int, Class_Druid: int, Class_Hunter: int, Class_DeathKnight: int, Class_Paladin: int, Class_Rogue: int, Class_Mage: int, Class_Priest: int, Class_Warrior: int, Class_Shaman: int]"
      ]
     },
     "execution_count": 64,
     "metadata": {},
     "output_type": "execute_result"
    }
   ],
   "source": [
    "class_wow"
   ]
  },
  {
   "cell_type": "code",
   "execution_count": 66,
   "metadata": {},
   "outputs": [],
   "source": [
    "ClassRaceDF = spark.sql(\"select classdata.*, racedata.* from classdata, racedata where classdata.Class_AvatarID = racedata.Race_AvatarID\")"
   ]
  },
  {
   "cell_type": "code",
   "execution_count": 70,
   "metadata": {},
   "outputs": [],
   "source": [
    "ClassRaceDF = ClassRaceDF.drop('Race_AvatarID')"
   ]
  },
  {
   "cell_type": "code",
   "execution_count": 72,
   "metadata": {
    "collapsed": true
   },
   "outputs": [],
   "source": [
    "ClassRaceDF.createOrReplaceTempView(\"crdata\")"
   ]
  },
  {
   "cell_type": "code",
   "execution_count": 74,
   "metadata": {},
   "outputs": [],
   "source": [
    "CRZoneDF = spark.sql(\"select * from crdata, zonedata where crdata.Class_AvatarID = zonedata.AvatarID\")"
   ]
  },
  {
   "cell_type": "code",
   "execution_count": 76,
   "metadata": {},
   "outputs": [],
   "source": [
    "CRZoneDF = CRZoneDF.drop('AvatarID')"
   ]
  },
  {
   "cell_type": "code",
   "execution_count": 77,
   "metadata": {
    "collapsed": true
   },
   "outputs": [],
   "source": [
    "CRZoneDF.createOrReplaceTempView(\"crzdata\")"
   ]
  },
  {
   "cell_type": "code",
   "execution_count": 78,
   "metadata": {
    "collapsed": true
   },
   "outputs": [],
   "source": [
    "CRZGuildDF = spark.sql(\"select * from crzdata, guilddata where crzdata.Class_AvatarID = guilddata.AvatarID\")"
   ]
  },
  {
   "cell_type": "code",
   "execution_count": 80,
   "metadata": {},
   "outputs": [],
   "source": [
    "CRZGuildDF = CRZGuildDF.drop(\"AvatarID\")"
   ]
  },
  {
   "cell_type": "code",
   "execution_count": 82,
   "metadata": {
    "collapsed": true
   },
   "outputs": [],
   "source": [
    "CRZGuildDF.createOrReplaceTempView(\"crzgdata\")"
   ]
  },
  {
   "cell_type": "code",
   "execution_count": 83,
   "metadata": {
    "collapsed": true
   },
   "outputs": [],
   "source": [
    "CRZGPDF = spark.sql(\"select * from crzgdata, playersdata where crzgdata.Class_AvatarID = playersdata.AvatarID\")"
   ]
  },
  {
   "cell_type": "code",
   "execution_count": 85,
   "metadata": {},
   "outputs": [],
   "source": [
    "CRZGPDF = CRZGPDF.drop(\"AvatarID\")"
   ]
  },
  {
   "cell_type": "code",
   "execution_count": 86,
   "metadata": {
    "collapsed": true
   },
   "outputs": [],
   "source": [
    "CRZGPDF.createOrReplaceTempView(\"crzgpdata\")"
   ]
  },
  {
   "cell_type": "code",
   "execution_count": 87,
   "metadata": {
    "collapsed": true
   },
   "outputs": [],
   "source": [
    "FinalChurnDF = spark.sql(\"select * from crzgpdata, churndata where crzgpdata.Class_AvatarID = churndata.AvatarID\")"
   ]
  },
  {
   "cell_type": "code",
   "execution_count": 90,
   "metadata": {},
   "outputs": [],
   "source": [
    "FinalChurnDF = FinalChurnDF.drop('AvatarID')"
   ]
  },
  {
   "cell_type": "code",
   "execution_count": 91,
   "metadata": {
    "collapsed": true
   },
   "outputs": [],
   "source": [
    "FinalChurnDF = FinalChurnDF.withColumnRenamed('Class_AvatarID','AvatarID')"
   ]
  },
  {
   "cell_type": "markdown",
   "metadata": {},
   "source": [
    "<html>\n",
    "<font color = blue>\n",
    "Now, we have the following 22 features to proceed with Churn prediction.\n",
    "</font>\n",
    "</html>"
   ]
  },
  {
   "cell_type": "code",
   "execution_count": 94,
   "metadata": {},
   "outputs": [
    {
     "data": {
      "text/plain": [
       "DataFrame[AvatarID: int, Class_Warlock: int, Class_Druid: int, Class_Hunter: int, Class_DeathKnight: int, Class_Paladin: int, Class_Rogue: int, Class_Mage: int, Class_Priest: int, Class_Warrior: int, Class_Shaman: int, Race_Orc: int, Race_Tauren: int, Race_Undead: int, Race_BloodElf: int, Race_Troll: int, ZonesPlayed: bigint, LevelFlag: int, GuildFlag: int, DaysPlayed: bigint, PlayerTenure: double, Churn: int]"
      ]
     },
     "execution_count": 94,
     "metadata": {},
     "output_type": "execute_result"
    }
   ],
   "source": [
    "FinalChurnDF"
   ]
  },
  {
   "cell_type": "code",
   "execution_count": 93,
   "metadata": {
    "collapsed": true
   },
   "outputs": [],
   "source": [
    "#FinalChurnDF.repartition(1).write.csv('churn_data.csv')"
   ]
  }
 ],
 "metadata": {
  "kernelspec": {
   "display_name": "Python 3",
   "language": "python",
   "name": "python3"
  },
  "language_info": {
   "codemirror_mode": {
    "name": "ipython",
    "version": 3
   },
   "file_extension": ".py",
   "mimetype": "text/x-python",
   "name": "python",
   "nbconvert_exporter": "python",
   "pygments_lexer": "ipython3",
   "version": "3.6.3"
  }
 },
 "nbformat": 4,
 "nbformat_minor": 2
}
