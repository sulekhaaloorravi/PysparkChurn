{
 "cells": [
  {
   "cell_type": "markdown",
   "metadata": {},
   "source": [
    "<html>\n",
    "<font color = green size = 6>\n",
    "<b>\n",
    "Churn Prediction\n",
    "</b>\n",
    "</font>\n",
    "</html>"
   ]
  },
  {
   "cell_type": "code",
   "execution_count": 1,
   "metadata": {
    "collapsed": true
   },
   "outputs": [],
   "source": [
    "from pyspark import SparkContext\n",
    "from pyspark.sql import SQLContext\n",
    "from pyspark.sql import Row, SparkSession\n",
    "from pyspark.sql.types import NumericType\n",
    "from pyspark.sql.functions import *"
   ]
  },
  {
   "cell_type": "code",
   "execution_count": 2,
   "metadata": {
    "collapsed": true
   },
   "outputs": [],
   "source": [
    "sc = SparkContext.getOrCreate()\n",
    "spark = SQLContext(sc)"
   ]
  },
  {
   "cell_type": "code",
   "execution_count": 3,
   "metadata": {
    "collapsed": true
   },
   "outputs": [],
   "source": [
    "churndf = spark.read.csv(path = \"churndata.csv\", header = True,inferSchema = True)"
   ]
  },
  {
   "cell_type": "code",
   "execution_count": 4,
   "metadata": {},
   "outputs": [
    {
     "data": {
      "text/plain": [
       "pyspark.sql.dataframe.DataFrame"
      ]
     },
     "execution_count": 4,
     "metadata": {},
     "output_type": "execute_result"
    }
   ],
   "source": [
    "type(churndf)"
   ]
  },
  {
   "cell_type": "code",
   "execution_count": 83,
   "metadata": {},
   "outputs": [
    {
     "name": "stdout",
     "output_type": "stream",
     "text": [
      "+-----+-----+\n",
      "|Churn|count|\n",
      "+-----+-----+\n",
      "|    1|85228|\n",
      "|    0|14181|\n",
      "+-----+-----+\n",
      "\n"
     ]
    }
   ],
   "source": [
    "churndf.groupby('Churn').count().show()"
   ]
  },
  {
   "cell_type": "code",
   "execution_count": 6,
   "metadata": {},
   "outputs": [
    {
     "data": {
      "text/plain": [
       "22"
      ]
     },
     "execution_count": 6,
     "metadata": {},
     "output_type": "execute_result"
    }
   ],
   "source": [
    "len(churndf.columns)"
   ]
  },
  {
   "cell_type": "code",
   "execution_count": 7,
   "metadata": {},
   "outputs": [
    {
     "name": "stdout",
     "output_type": "stream",
     "text": [
      "root\n",
      " |-- AvatarID: integer (nullable = true)\n",
      " |-- Class_Warlock: integer (nullable = true)\n",
      " |-- Class_Druid: integer (nullable = true)\n",
      " |-- Class_Hunter: integer (nullable = true)\n",
      " |-- Class_DeathKnight: integer (nullable = true)\n",
      " |-- Class_Paladin: integer (nullable = true)\n",
      " |-- Class_Rogue: integer (nullable = true)\n",
      " |-- Class_Mage: integer (nullable = true)\n",
      " |-- Class_Priest: integer (nullable = true)\n",
      " |-- Class_Warrior: integer (nullable = true)\n",
      " |-- Class_Shaman: integer (nullable = true)\n",
      " |-- Race_Orc: integer (nullable = true)\n",
      " |-- Race_Tauren: integer (nullable = true)\n",
      " |-- Race_Undead: integer (nullable = true)\n",
      " |-- Race_BloodElf: integer (nullable = true)\n",
      " |-- Race_Troll: integer (nullable = true)\n",
      " |-- ZonesPlayed: integer (nullable = true)\n",
      " |-- LevelFlag: integer (nullable = true)\n",
      " |-- GuildFlag: integer (nullable = true)\n",
      " |-- DaysPlayed: integer (nullable = true)\n",
      " |-- PlayerTenure: integer (nullable = true)\n",
      " |-- Churn: integer (nullable = true)\n",
      "\n"
     ]
    }
   ],
   "source": [
    "churndf.printSchema()"
   ]
  },
  {
   "cell_type": "code",
   "execution_count": 8,
   "metadata": {
    "collapsed": true
   },
   "outputs": [],
   "source": [
    "import warnings\n",
    "warnings.filterwarnings('ignore')\n",
    "\n",
    "%matplotlib inline\n",
    "import pandas as pd\n",
    "pd.options.display.mpl_style = 'default'"
   ]
  },
  {
   "cell_type": "code",
   "execution_count": 9,
   "metadata": {},
   "outputs": [
    {
     "data": {
      "text/html": [
       "<div>\n",
       "<table border=\"1\" class=\"dataframe\">\n",
       "  <thead>\n",
       "    <tr style=\"text-align: right;\">\n",
       "      <th></th>\n",
       "      <th>AvatarID</th>\n",
       "      <th>Class_Warlock</th>\n",
       "      <th>Class_Druid</th>\n",
       "      <th>Class_Hunter</th>\n",
       "      <th>Class_DeathKnight</th>\n",
       "      <th>Class_Paladin</th>\n",
       "      <th>Class_Rogue</th>\n",
       "      <th>Class_Mage</th>\n",
       "      <th>Class_Priest</th>\n",
       "      <th>Class_Warrior</th>\n",
       "      <th>...</th>\n",
       "      <th>Race_Tauren</th>\n",
       "      <th>Race_Undead</th>\n",
       "      <th>Race_BloodElf</th>\n",
       "      <th>Race_Troll</th>\n",
       "      <th>ZonesPlayed</th>\n",
       "      <th>LevelFlag</th>\n",
       "      <th>GuildFlag</th>\n",
       "      <th>DaysPlayed</th>\n",
       "      <th>PlayerTenure</th>\n",
       "      <th>Churn</th>\n",
       "    </tr>\n",
       "  </thead>\n",
       "  <tbody>\n",
       "    <tr>\n",
       "      <th>0</th>\n",
       "      <td>148</td>\n",
       "      <td>0</td>\n",
       "      <td>0</td>\n",
       "      <td>0</td>\n",
       "      <td>0</td>\n",
       "      <td>0</td>\n",
       "      <td>0</td>\n",
       "      <td>0</td>\n",
       "      <td>0</td>\n",
       "      <td>0</td>\n",
       "      <td>...</td>\n",
       "      <td>1</td>\n",
       "      <td>0</td>\n",
       "      <td>0</td>\n",
       "      <td>0</td>\n",
       "      <td>10949</td>\n",
       "      <td>2</td>\n",
       "      <td>1</td>\n",
       "      <td>534</td>\n",
       "      <td>1074</td>\n",
       "      <td>0</td>\n",
       "    </tr>\n",
       "    <tr>\n",
       "      <th>1</th>\n",
       "      <td>463</td>\n",
       "      <td>0</td>\n",
       "      <td>0</td>\n",
       "      <td>0</td>\n",
       "      <td>0</td>\n",
       "      <td>0</td>\n",
       "      <td>0</td>\n",
       "      <td>0</td>\n",
       "      <td>1</td>\n",
       "      <td>0</td>\n",
       "      <td>...</td>\n",
       "      <td>0</td>\n",
       "      <td>1</td>\n",
       "      <td>0</td>\n",
       "      <td>0</td>\n",
       "      <td>4740</td>\n",
       "      <td>2</td>\n",
       "      <td>1</td>\n",
       "      <td>263</td>\n",
       "      <td>805</td>\n",
       "      <td>1</td>\n",
       "    </tr>\n",
       "    <tr>\n",
       "      <th>2</th>\n",
       "      <td>471</td>\n",
       "      <td>0</td>\n",
       "      <td>0</td>\n",
       "      <td>0</td>\n",
       "      <td>0</td>\n",
       "      <td>0</td>\n",
       "      <td>0</td>\n",
       "      <td>0</td>\n",
       "      <td>0</td>\n",
       "      <td>1</td>\n",
       "      <td>...</td>\n",
       "      <td>0</td>\n",
       "      <td>0</td>\n",
       "      <td>0</td>\n",
       "      <td>0</td>\n",
       "      <td>532</td>\n",
       "      <td>2</td>\n",
       "      <td>1</td>\n",
       "      <td>15</td>\n",
       "      <td>495</td>\n",
       "      <td>1</td>\n",
       "    </tr>\n",
       "    <tr>\n",
       "      <th>3</th>\n",
       "      <td>496</td>\n",
       "      <td>0</td>\n",
       "      <td>0</td>\n",
       "      <td>0</td>\n",
       "      <td>0</td>\n",
       "      <td>0</td>\n",
       "      <td>0</td>\n",
       "      <td>0</td>\n",
       "      <td>0</td>\n",
       "      <td>1</td>\n",
       "      <td>...</td>\n",
       "      <td>0</td>\n",
       "      <td>0</td>\n",
       "      <td>0</td>\n",
       "      <td>0</td>\n",
       "      <td>4</td>\n",
       "      <td>1</td>\n",
       "      <td>0</td>\n",
       "      <td>1</td>\n",
       "      <td>0</td>\n",
       "      <td>1</td>\n",
       "    </tr>\n",
       "    <tr>\n",
       "      <th>4</th>\n",
       "      <td>833</td>\n",
       "      <td>0</td>\n",
       "      <td>0</td>\n",
       "      <td>0</td>\n",
       "      <td>0</td>\n",
       "      <td>0</td>\n",
       "      <td>0</td>\n",
       "      <td>0</td>\n",
       "      <td>0</td>\n",
       "      <td>1</td>\n",
       "      <td>...</td>\n",
       "      <td>0</td>\n",
       "      <td>0</td>\n",
       "      <td>0</td>\n",
       "      <td>0</td>\n",
       "      <td>2</td>\n",
       "      <td>1</td>\n",
       "      <td>0</td>\n",
       "      <td>1</td>\n",
       "      <td>0</td>\n",
       "      <td>1</td>\n",
       "    </tr>\n",
       "  </tbody>\n",
       "</table>\n",
       "<p>5 rows × 22 columns</p>\n",
       "</div>"
      ],
      "text/plain": [
       "   AvatarID  Class_Warlock  Class_Druid  Class_Hunter  Class_DeathKnight  \\\n",
       "0       148              0            0             0                  0   \n",
       "1       463              0            0             0                  0   \n",
       "2       471              0            0             0                  0   \n",
       "3       496              0            0             0                  0   \n",
       "4       833              0            0             0                  0   \n",
       "\n",
       "   Class_Paladin  Class_Rogue  Class_Mage  Class_Priest  Class_Warrior  ...    \\\n",
       "0              0            0           0             0              0  ...     \n",
       "1              0            0           0             1              0  ...     \n",
       "2              0            0           0             0              1  ...     \n",
       "3              0            0           0             0              1  ...     \n",
       "4              0            0           0             0              1  ...     \n",
       "\n",
       "   Race_Tauren  Race_Undead  Race_BloodElf  Race_Troll  ZonesPlayed  \\\n",
       "0            1            0              0           0        10949   \n",
       "1            0            1              0           0         4740   \n",
       "2            0            0              0           0          532   \n",
       "3            0            0              0           0            4   \n",
       "4            0            0              0           0            2   \n",
       "\n",
       "   LevelFlag  GuildFlag  DaysPlayed  PlayerTenure  Churn  \n",
       "0          2          1         534          1074      0  \n",
       "1          2          1         263           805      1  \n",
       "2          2          1          15           495      1  \n",
       "3          1          0           1             0      1  \n",
       "4          1          0           1             0      1  \n",
       "\n",
       "[5 rows x 22 columns]"
      ]
     },
     "execution_count": 9,
     "metadata": {},
     "output_type": "execute_result"
    }
   ],
   "source": [
    "pd.DataFrame(churndf.take(5), columns=churndf.columns)"
   ]
  },
  {
   "cell_type": "code",
   "execution_count": 10,
   "metadata": {
    "collapsed": true
   },
   "outputs": [],
   "source": [
    "churndf_pd = churndf.toPandas()"
   ]
  },
  {
   "cell_type": "code",
   "execution_count": 11,
   "metadata": {},
   "outputs": [
    {
     "data": {
      "text/html": [
       "<div>\n",
       "<table border=\"1\" class=\"dataframe\">\n",
       "  <thead>\n",
       "    <tr style=\"text-align: right;\">\n",
       "      <th></th>\n",
       "      <th>AvatarID</th>\n",
       "      <th>Class_Warlock</th>\n",
       "      <th>Class_Druid</th>\n",
       "      <th>Class_Hunter</th>\n",
       "      <th>Class_DeathKnight</th>\n",
       "      <th>Class_Paladin</th>\n",
       "      <th>Class_Rogue</th>\n",
       "      <th>Class_Mage</th>\n",
       "      <th>Class_Priest</th>\n",
       "      <th>Class_Warrior</th>\n",
       "      <th>...</th>\n",
       "      <th>Race_Tauren</th>\n",
       "      <th>Race_Undead</th>\n",
       "      <th>Race_BloodElf</th>\n",
       "      <th>Race_Troll</th>\n",
       "      <th>ZonesPlayed</th>\n",
       "      <th>LevelFlag</th>\n",
       "      <th>GuildFlag</th>\n",
       "      <th>DaysPlayed</th>\n",
       "      <th>PlayerTenure</th>\n",
       "      <th>Churn</th>\n",
       "    </tr>\n",
       "  </thead>\n",
       "  <tbody>\n",
       "    <tr>\n",
       "      <th>count</th>\n",
       "      <td>99409.000000</td>\n",
       "      <td>99409.000000</td>\n",
       "      <td>99409.000000</td>\n",
       "      <td>99409.000000</td>\n",
       "      <td>99409.000000</td>\n",
       "      <td>99409.000000</td>\n",
       "      <td>99409.000000</td>\n",
       "      <td>99409.000000</td>\n",
       "      <td>99409.000000</td>\n",
       "      <td>99409.000000</td>\n",
       "      <td>...</td>\n",
       "      <td>99409.000000</td>\n",
       "      <td>99409.000000</td>\n",
       "      <td>99409.000000</td>\n",
       "      <td>99409.000000</td>\n",
       "      <td>99409.000000</td>\n",
       "      <td>99409.000000</td>\n",
       "      <td>99409.000000</td>\n",
       "      <td>99409.000000</td>\n",
       "      <td>99409.000000</td>\n",
       "      <td>99409.000000</td>\n",
       "    </tr>\n",
       "    <tr>\n",
       "      <th>mean</th>\n",
       "      <td>44664.315092</td>\n",
       "      <td>0.103864</td>\n",
       "      <td>0.045046</td>\n",
       "      <td>0.122846</td>\n",
       "      <td>0.019093</td>\n",
       "      <td>0.087346</td>\n",
       "      <td>0.118541</td>\n",
       "      <td>0.117303</td>\n",
       "      <td>0.071161</td>\n",
       "      <td>0.229144</td>\n",
       "      <td>...</td>\n",
       "      <td>0.157692</td>\n",
       "      <td>0.182388</td>\n",
       "      <td>0.311501</td>\n",
       "      <td>0.157622</td>\n",
       "      <td>470.744309</td>\n",
       "      <td>1.132584</td>\n",
       "      <td>0.241035</td>\n",
       "      <td>22.931143</td>\n",
       "      <td>130.063103</td>\n",
       "      <td>0.857347</td>\n",
       "    </tr>\n",
       "    <tr>\n",
       "      <th>std</th>\n",
       "      <td>26348.982958</td>\n",
       "      <td>0.305085</td>\n",
       "      <td>0.207407</td>\n",
       "      <td>0.328262</td>\n",
       "      <td>0.136852</td>\n",
       "      <td>0.282343</td>\n",
       "      <td>0.323249</td>\n",
       "      <td>0.321783</td>\n",
       "      <td>0.257094</td>\n",
       "      <td>0.420284</td>\n",
       "      <td>...</td>\n",
       "      <td>0.364454</td>\n",
       "      <td>0.386166</td>\n",
       "      <td>0.463109</td>\n",
       "      <td>0.364388</td>\n",
       "      <td>2037.218414</td>\n",
       "      <td>0.339126</td>\n",
       "      <td>0.427713</td>\n",
       "      <td>72.165708</td>\n",
       "      <td>245.672152</td>\n",
       "      <td>0.349720</td>\n",
       "    </tr>\n",
       "    <tr>\n",
       "      <th>min</th>\n",
       "      <td>0.000000</td>\n",
       "      <td>0.000000</td>\n",
       "      <td>0.000000</td>\n",
       "      <td>0.000000</td>\n",
       "      <td>0.000000</td>\n",
       "      <td>0.000000</td>\n",
       "      <td>0.000000</td>\n",
       "      <td>0.000000</td>\n",
       "      <td>0.000000</td>\n",
       "      <td>0.000000</td>\n",
       "      <td>...</td>\n",
       "      <td>0.000000</td>\n",
       "      <td>0.000000</td>\n",
       "      <td>0.000000</td>\n",
       "      <td>0.000000</td>\n",
       "      <td>1.000000</td>\n",
       "      <td>1.000000</td>\n",
       "      <td>0.000000</td>\n",
       "      <td>1.000000</td>\n",
       "      <td>0.000000</td>\n",
       "      <td>0.000000</td>\n",
       "    </tr>\n",
       "    <tr>\n",
       "      <th>25%</th>\n",
       "      <td>21545.000000</td>\n",
       "      <td>0.000000</td>\n",
       "      <td>0.000000</td>\n",
       "      <td>0.000000</td>\n",
       "      <td>0.000000</td>\n",
       "      <td>0.000000</td>\n",
       "      <td>0.000000</td>\n",
       "      <td>0.000000</td>\n",
       "      <td>0.000000</td>\n",
       "      <td>0.000000</td>\n",
       "      <td>...</td>\n",
       "      <td>0.000000</td>\n",
       "      <td>0.000000</td>\n",
       "      <td>0.000000</td>\n",
       "      <td>0.000000</td>\n",
       "      <td>2.000000</td>\n",
       "      <td>1.000000</td>\n",
       "      <td>0.000000</td>\n",
       "      <td>1.000000</td>\n",
       "      <td>0.000000</td>\n",
       "      <td>1.000000</td>\n",
       "    </tr>\n",
       "    <tr>\n",
       "      <th>50%</th>\n",
       "      <td>44275.000000</td>\n",
       "      <td>0.000000</td>\n",
       "      <td>0.000000</td>\n",
       "      <td>0.000000</td>\n",
       "      <td>0.000000</td>\n",
       "      <td>0.000000</td>\n",
       "      <td>0.000000</td>\n",
       "      <td>0.000000</td>\n",
       "      <td>0.000000</td>\n",
       "      <td>0.000000</td>\n",
       "      <td>...</td>\n",
       "      <td>0.000000</td>\n",
       "      <td>0.000000</td>\n",
       "      <td>0.000000</td>\n",
       "      <td>0.000000</td>\n",
       "      <td>9.000000</td>\n",
       "      <td>1.000000</td>\n",
       "      <td>0.000000</td>\n",
       "      <td>2.000000</td>\n",
       "      <td>2.000000</td>\n",
       "      <td>1.000000</td>\n",
       "    </tr>\n",
       "    <tr>\n",
       "      <th>75%</th>\n",
       "      <td>67415.000000</td>\n",
       "      <td>0.000000</td>\n",
       "      <td>0.000000</td>\n",
       "      <td>0.000000</td>\n",
       "      <td>0.000000</td>\n",
       "      <td>0.000000</td>\n",
       "      <td>0.000000</td>\n",
       "      <td>0.000000</td>\n",
       "      <td>0.000000</td>\n",
       "      <td>0.000000</td>\n",
       "      <td>...</td>\n",
       "      <td>0.000000</td>\n",
       "      <td>0.000000</td>\n",
       "      <td>1.000000</td>\n",
       "      <td>0.000000</td>\n",
       "      <td>69.000000</td>\n",
       "      <td>1.000000</td>\n",
       "      <td>0.000000</td>\n",
       "      <td>9.000000</td>\n",
       "      <td>125.000000</td>\n",
       "      <td>1.000000</td>\n",
       "    </tr>\n",
       "    <tr>\n",
       "      <th>max</th>\n",
       "      <td>91064.000000</td>\n",
       "      <td>1.000000</td>\n",
       "      <td>1.000000</td>\n",
       "      <td>1.000000</td>\n",
       "      <td>1.000000</td>\n",
       "      <td>1.000000</td>\n",
       "      <td>1.000000</td>\n",
       "      <td>1.000000</td>\n",
       "      <td>1.000000</td>\n",
       "      <td>1.000000</td>\n",
       "      <td>...</td>\n",
       "      <td>1.000000</td>\n",
       "      <td>1.000000</td>\n",
       "      <td>1.000000</td>\n",
       "      <td>1.000000</td>\n",
       "      <td>154976.000000</td>\n",
       "      <td>2.000000</td>\n",
       "      <td>1.000000</td>\n",
       "      <td>1082.000000</td>\n",
       "      <td>1105.000000</td>\n",
       "      <td>1.000000</td>\n",
       "    </tr>\n",
       "  </tbody>\n",
       "</table>\n",
       "<p>8 rows × 22 columns</p>\n",
       "</div>"
      ],
      "text/plain": [
       "           AvatarID  Class_Warlock   Class_Druid  Class_Hunter  \\\n",
       "count  99409.000000   99409.000000  99409.000000  99409.000000   \n",
       "mean   44664.315092       0.103864      0.045046      0.122846   \n",
       "std    26348.982958       0.305085      0.207407      0.328262   \n",
       "min        0.000000       0.000000      0.000000      0.000000   \n",
       "25%    21545.000000       0.000000      0.000000      0.000000   \n",
       "50%    44275.000000       0.000000      0.000000      0.000000   \n",
       "75%    67415.000000       0.000000      0.000000      0.000000   \n",
       "max    91064.000000       1.000000      1.000000      1.000000   \n",
       "\n",
       "       Class_DeathKnight  Class_Paladin   Class_Rogue    Class_Mage  \\\n",
       "count       99409.000000   99409.000000  99409.000000  99409.000000   \n",
       "mean            0.019093       0.087346      0.118541      0.117303   \n",
       "std             0.136852       0.282343      0.323249      0.321783   \n",
       "min             0.000000       0.000000      0.000000      0.000000   \n",
       "25%             0.000000       0.000000      0.000000      0.000000   \n",
       "50%             0.000000       0.000000      0.000000      0.000000   \n",
       "75%             0.000000       0.000000      0.000000      0.000000   \n",
       "max             1.000000       1.000000      1.000000      1.000000   \n",
       "\n",
       "       Class_Priest  Class_Warrior      ...        Race_Tauren   Race_Undead  \\\n",
       "count  99409.000000   99409.000000      ...       99409.000000  99409.000000   \n",
       "mean       0.071161       0.229144      ...           0.157692      0.182388   \n",
       "std        0.257094       0.420284      ...           0.364454      0.386166   \n",
       "min        0.000000       0.000000      ...           0.000000      0.000000   \n",
       "25%        0.000000       0.000000      ...           0.000000      0.000000   \n",
       "50%        0.000000       0.000000      ...           0.000000      0.000000   \n",
       "75%        0.000000       0.000000      ...           0.000000      0.000000   \n",
       "max        1.000000       1.000000      ...           1.000000      1.000000   \n",
       "\n",
       "       Race_BloodElf    Race_Troll    ZonesPlayed     LevelFlag     GuildFlag  \\\n",
       "count   99409.000000  99409.000000   99409.000000  99409.000000  99409.000000   \n",
       "mean        0.311501      0.157622     470.744309      1.132584      0.241035   \n",
       "std         0.463109      0.364388    2037.218414      0.339126      0.427713   \n",
       "min         0.000000      0.000000       1.000000      1.000000      0.000000   \n",
       "25%         0.000000      0.000000       2.000000      1.000000      0.000000   \n",
       "50%         0.000000      0.000000       9.000000      1.000000      0.000000   \n",
       "75%         1.000000      0.000000      69.000000      1.000000      0.000000   \n",
       "max         1.000000      1.000000  154976.000000      2.000000      1.000000   \n",
       "\n",
       "         DaysPlayed  PlayerTenure         Churn  \n",
       "count  99409.000000  99409.000000  99409.000000  \n",
       "mean      22.931143    130.063103      0.857347  \n",
       "std       72.165708    245.672152      0.349720  \n",
       "min        1.000000      0.000000      0.000000  \n",
       "25%        1.000000      0.000000      1.000000  \n",
       "50%        2.000000      2.000000      1.000000  \n",
       "75%        9.000000    125.000000      1.000000  \n",
       "max     1082.000000   1105.000000      1.000000  \n",
       "\n",
       "[8 rows x 22 columns]"
      ]
     },
     "execution_count": 11,
     "metadata": {},
     "output_type": "execute_result"
    }
   ],
   "source": [
    "churndf_pd.describe()"
   ]
  },
  {
   "cell_type": "markdown",
   "metadata": {},
   "source": [
    "<html>\n",
    "<font color = Purple size = 4>\n",
    "<b> Scatterplot</b>\n",
    "</font>\n",
    "</html>"
   ]
  },
  {
   "cell_type": "code",
   "execution_count": 12,
   "metadata": {},
   "outputs": [
    {
     "data": {
      "image/png": "[encoded data removed]",
      "text/plain": [
       "<matplotlib.figure.Figure at 0x7fc7959e9f10>"
      ]
     },
     "metadata": {},
     "output_type": "display_data"
    }
   ],
   "source": [
    "numeric_features = [t[0] for t in churndf.dtypes if t[1] == 'int' or t[1] == 'double']\n",
    "\n",
    "sampled_data = churndf.select(numeric_features).sample(False, 0.10).toPandas()\n",
    "\n",
    "axs = pd.scatter_matrix(sampled_data, figsize=(12, 12));\n",
    "\n",
    "# Rotate axis labels and remove axis ticks\n",
    "n = len(sampled_data.columns)\n",
    "for i in range(n):\n",
    "    v = axs[i, 0]\n",
    "    v.yaxis.label.set_rotation(0)\n",
    "    v.yaxis.label.set_ha('right')\n",
    "    v.set_yticks(())\n",
    "    h = axs[n-1, i]\n",
    "    h.xaxis.label.set_rotation(90)\n",
    "    h.set_xticks(())"
   ]
  },
  {
   "cell_type": "code",
   "execution_count": 14,
   "metadata": {},
   "outputs": [
    {
     "data": {
      "text/html": [
       "<div>\n",
       "<table border=\"1\" class=\"dataframe\">\n",
       "  <thead>\n",
       "    <tr style=\"text-align: right;\">\n",
       "      <th></th>\n",
       "      <th>row_name</th>\n",
       "      <th>col_name</th>\n",
       "      <th>value</th>\n",
       "    </tr>\n",
       "  </thead>\n",
       "  <tbody>\n",
       "    <tr>\n",
       "      <th>0</th>\n",
       "      <td>ZonesPlayed</td>\n",
       "      <td>DaysPlayed</td>\n",
       "      <td>0.876356</td>\n",
       "    </tr>\n",
       "  </tbody>\n",
       "</table>\n",
       "</div>"
      ],
      "text/plain": [
       "      row_name    col_name     value\n",
       "0  ZonesPlayed  DaysPlayed  0.876356"
      ]
     },
     "execution_count": 14,
     "metadata": {},
     "output_type": "execute_result"
    }
   ],
   "source": [
    "import numpy as np\n",
    "df = churndf.toPandas().corr()\n",
    "# Extract values and row, column names\n",
    "arr = df.values\n",
    "index_names = df.index\n",
    "col_names = df.columns\n",
    "\n",
    "#  Get indices where such threshold is crossed; avoid diagonal elems\n",
    "R,C = np.where(np.triu(arr,1)>0.8)\n",
    "\n",
    "# Arrange those in columns and put out as a dataframe\n",
    "out_arr = np.column_stack((index_names[R],col_names[C],arr[R,C]))\n",
    "df_out = pd.DataFrame(out_arr,columns=[['row_name','col_name','value']])\n",
    "\n",
    "df_out"
   ]
  },
  {
   "cell_type": "markdown",
   "metadata": {},
   "source": [
    "<html>\n",
    "<font color = Purple size = 4>\n",
    "<b> Correlation between Churn and other variables</b>\n",
    "</font>\n",
    "</html>"
   ]
  },
  {
   "cell_type": "code",
   "execution_count": 15,
   "metadata": {},
   "outputs": [
    {
     "data": {
      "text/plain": [
       "AvatarID            -0.250078\n",
       "Class_Warlock        0.007344\n",
       "Class_Druid         -0.020969\n",
       "Class_Hunter        -0.003235\n",
       "Class_DeathKnight   -0.342026\n",
       "Class_Paladin       -0.004314\n",
       "Class_Rogue          0.028567\n",
       "Class_Mage           0.004691\n",
       "Class_Priest        -0.008601\n",
       "Class_Warrior        0.086201\n",
       "Class_Shaman         0.022992\n",
       "Race_Orc             0.059347\n",
       "Race_Tauren         -0.006612\n",
       "Race_Undead         -0.006298\n",
       "Race_BloodElf       -0.054013\n",
       "Race_Troll           0.017937\n",
       "ZonesPlayed         -0.252384\n",
       "LevelFlag           -0.436214\n",
       "GuildFlag           -0.268530\n",
       "DaysPlayed          -0.361327\n",
       "PlayerTenure        -0.373687\n",
       "Churn                1.000000\n",
       "Name: Churn, dtype: float64"
      ]
     },
     "execution_count": 15,
     "metadata": {},
     "output_type": "execute_result"
    }
   ],
   "source": [
    "churndf.toPandas().corr()[\"Churn\"]"
   ]
  },
  {
   "cell_type": "code",
   "execution_count": 91,
   "metadata": {
    "collapsed": true
   },
   "outputs": [],
   "source": [
    "churndf.createOrReplaceTempView(\"churntable\")\n",
    "churndata = spark.sql(\"select * from churntable where Churn = 1 limit 14181\")\n",
    "nonchurndata = spark.sql(\"select * from churntable where Churn = 0 limit 14181\")\n",
    "churndf = churndata.union(nonchurndata)\n",
    "churndf.groupby('Churn').count().show()"
   ]
  },
  {
   "cell_type": "markdown",
   "metadata": {},
   "source": [
    "<html>\n",
    "<font color = Purple size = 4>\n",
    "<b> Apply Random Forest Classifier from SparkML</b>\n",
    "</font>\n",
    "</html>"
   ]
  },
  {
   "cell_type": "code",
   "execution_count": 101,
   "metadata": {},
   "outputs": [],
   "source": [
    "from pyspark.ml.classification import RandomForestClassifier as RF\n",
    "from pyspark.ml.feature import StringIndexer, VectorIndexer, VectorAssembler, SQLTransformer\n",
    "\n",
    "from pyspark.ml import Pipeline\n",
    "from pyspark.ml.evaluation import MulticlassClassificationEvaluator, BinaryClassificationEvaluator\n",
    "from pyspark.ml.tuning import CrossValidator, ParamGridBuilder\n",
    "import numpy as np\n",
    "import functools\n",
    "from pyspark.ml.feature import OneHotEncoder\n",
    "\n",
    "cols_now = ['Class_Warlock','Class_Druid', 'Class_Hunter',\n",
    "            'Class_DeathKnight', 'Class_Paladin', 'Class_Rogue',\n",
    "            'Class_Mage', 'Class_Priest', 'Class_Warrior',\n",
    "            'Class_Shaman', 'Race_Orc', 'Race_Tauren', 'Race_Undead',\n",
    "            'Race_BloodElf', 'Race_Troll', 'ZonesPlayed', 'LevelFlag',\n",
    "            'GuildFlag', 'DaysPlayed', 'PlayerTenure'\n",
    "]\n",
    "\n",
    "assembler_features = VectorAssembler(inputCols=cols_now, outputCol='features')"
   ]
  },
  {
   "cell_type": "code",
   "execution_count": 102,
   "metadata": {},
   "outputs": [],
   "source": [
    "labelIndexer = StringIndexer(inputCol=\"Churn\", outputCol='label').fit(churndf)\n",
    "tmp = [assembler_features, labelIndexer]\n",
    "pipeline = Pipeline(stages=tmp)"
   ]
  },
  {
   "cell_type": "code",
   "execution_count": 103,
   "metadata": {},
   "outputs": [],
   "source": [
    "allData = pipeline.fit(churndf).transform(churndf)\n",
    "allData.cache()\n",
    "\n",
    "trainingData, testData = allData.randomSplit([0.70,0.30], seed=0)"
   ]
  },
  {
   "cell_type": "code",
   "execution_count": 104,
   "metadata": {},
   "outputs": [],
   "source": [
    "rf = RF(labelCol='label', featuresCol='features',numTrees=150)\n",
    "fit = rf.fit(trainingData)\n",
    "transformed = fit.transform(testData)"
   ]
  },
  {
   "cell_type": "code",
   "execution_count": 105,
   "metadata": {},
   "outputs": [
    {
     "name": "stdout",
     "output_type": "stream",
     "text": [
      "+-----+--------------------+----------+\n",
      "|Churn|         probability|prediction|\n",
      "+-----+--------------------+----------+\n",
      "|    1|[0.36603045585054...|       1.0|\n",
      "|    1|[0.73221408595827...|       0.0|\n",
      "|    1|[0.27061122241881...|       1.0|\n",
      "|    1|[0.66975419278734...|       0.0|\n",
      "|    1|[0.65425018364164...|       0.0|\n",
      "+-----+--------------------+----------+\n",
      "only showing top 5 rows\n",
      "\n"
     ]
    }
   ],
   "source": [
    "transformed.select(\"Churn\", \"probability\", \"prediction\").show(5)"
   ]
  },
  {
   "cell_type": "markdown",
   "metadata": {},
   "source": [
    "<html>\n",
    "<font color = Purple size = 4>\n",
    "<b> Calculate Model Accuracy</b>\n",
    "</font>\n",
    "</html>"
   ]
  },
  {
   "cell_type": "code",
   "execution_count": 106,
   "metadata": {},
   "outputs": [
    {
     "name": "stdout",
     "output_type": "stream",
     "text": [
      "('Accuracy: ', 0.8102501007455151)\n"
     ]
    }
   ],
   "source": [
    "from pyspark.mllib.evaluation import BinaryClassificationMetrics as metric\n",
    "results = transformed.select(['probability', 'label'])\n",
    "\n",
    "results_collect = results.collect()\n",
    "results_list = [(float(i[0][0]), 1.0-float(i[1])) for i in results_collect]\n",
    "scoreAndLabels = sc.parallelize(results_list)\n",
    "\n",
    "metrics = metric(scoreAndLabels)\n",
    "print(\"Accuracy: \", metrics.areaUnderROC)"
   ]
  },
  {
   "cell_type": "markdown",
   "metadata": {},
   "source": [
    "<html>\n",
    "<font color = Purple size = 4>\n",
    "<b> Plot ROC Curve</b>\n",
    "</font>\n",
    "</html>"
   ]
  },
  {
   "cell_type": "code",
   "execution_count": 107,
   "metadata": {},
   "outputs": [
    {
     "data": {
      "image/png": "[encoded data removed]",
      "text/plain": [
       "<matplotlib.figure.Figure at 0x7fc77cdb0f90>"
      ]
     },
     "metadata": {},
     "output_type": "display_data"
    }
   ],
   "source": [
    "from sklearn.metrics import roc_curve, auc\n",
    "import warnings\n",
    "warnings.filterwarnings('ignore')\n",
    "%matplotlib inline\n",
    "import random\n",
    "import matplotlib.pyplot as plt\n",
    "import pandas as pd\n",
    "import numpy as np\n",
    "\n",
    "\n",
    "fpr = dict()\n",
    "tpr = dict()\n",
    "roc_auc = dict()\n",
    "\n",
    "y_test = [i[1] for i in results_list]\n",
    "y_score = [i[0] for i in results_list]\n",
    "\n",
    "fpr, tpr, _ = roc_curve(y_test, y_score)\n",
    "roc_auc = auc(fpr, tpr)\n",
    "\n",
    "%matplotlib inline\n",
    "plt.figure()\n",
    "plt.plot(fpr, tpr, label='ROC curve (area = %0.2f)' % roc_auc)\n",
    "plt.plot([0, 1], [0, 1], 'k--')\n",
    "plt.xlim([0.0, 1.0])\n",
    "plt.ylim([0.0, 1.05])\n",
    "plt.xlabel('False Positive Rate')\n",
    "plt.ylabel('True Positive Rate')\n",
    "plt.title('ROC Curve')\n",
    "plt.legend(loc=\"lower right\")\n",
    "plt.show()"
   ]
  },
  {
   "cell_type": "markdown",
   "metadata": {},
   "source": [
    "<html>\n",
    "<font color = Purple size = 4>\n",
    "<b> Plot Variable of Importance</b>\n",
    "</font>\n",
    "</html>"
   ]
  },
  {
   "cell_type": "code",
   "execution_count": 108,
   "metadata": {},
   "outputs": [
    {
     "data": {
      "image/png": "[encoded data removed]",
      "text/plain": [
       "<matplotlib.figure.Figure at 0x7fc77e2179d0>"
      ]
     },
     "metadata": {},
     "output_type": "display_data"
    }
   ],
   "source": [
    "fig = plt.figure(figsize=(20, 18))\n",
    "ax = fig.add_subplot(111)\n",
    "\n",
    "df_f = pd.DataFrame(fit.featureImportances.values)\n",
    "df_f.rename(columns = {0:'importance'}, inplace = True)\n",
    "df_f[\"labels\"] = cols_now\n",
    "\n",
    "df_f.sort_values(\"importance\", inplace=True, ascending=False)\n",
    "\n",
    "index = np.arange(len(df_f['importance']))\n",
    "bar_width = 0.5\n",
    "rects = plt.barh(index , df_f[\"importance\"], bar_width, alpha=0.4, color='Red', label='Main')\n",
    "plt.yticks(index, df_f[\"labels\"])\n",
    "plt.title(\"Variable importance in Random Forest\")\n",
    "plt.show()"
   ]
  },
  {
   "cell_type": "code",
   "execution_count": 109,
   "metadata": {},
   "outputs": [
    {
     "data": {
      "text/html": [
       "<div>\n",
       "<table border=\"1\" class=\"dataframe\">\n",
       "  <thead>\n",
       "    <tr style=\"text-align: right;\">\n",
       "      <th></th>\n",
       "      <th>importance</th>\n",
       "      <th>labels</th>\n",
       "    </tr>\n",
       "  </thead>\n",
       "  <tbody>\n",
       "    <tr>\n",
       "      <th>16</th>\n",
       "      <td>0.379348</td>\n",
       "      <td>LevelFlag</td>\n",
       "    </tr>\n",
       "    <tr>\n",
       "      <th>18</th>\n",
       "      <td>0.198343</td>\n",
       "      <td>DaysPlayed</td>\n",
       "    </tr>\n",
       "    <tr>\n",
       "      <th>19</th>\n",
       "      <td>0.189718</td>\n",
       "      <td>PlayerTenure</td>\n",
       "    </tr>\n",
       "    <tr>\n",
       "      <th>3</th>\n",
       "      <td>0.092719</td>\n",
       "      <td>Class_DeathKnight</td>\n",
       "    </tr>\n",
       "    <tr>\n",
       "      <th>15</th>\n",
       "      <td>0.076479</td>\n",
       "      <td>ZonesPlayed</td>\n",
       "    </tr>\n",
       "  </tbody>\n",
       "</table>\n",
       "</div>"
      ],
      "text/plain": [
       "    importance             labels\n",
       "16    0.379348          LevelFlag\n",
       "18    0.198343         DaysPlayed\n",
       "19    0.189718       PlayerTenure\n",
       "3     0.092719  Class_DeathKnight\n",
       "15    0.076479        ZonesPlayed"
      ]
     },
     "execution_count": 109,
     "metadata": {},
     "output_type": "execute_result"
    }
   ],
   "source": [
    "df_f.head(5)"
   ]
  },
  {
   "cell_type": "markdown",
   "metadata": {},
   "source": [
    "<html>\n",
    "<font color = Purple size = 4>\n",
    "<b> Apply DecisionTree Classifier</b>\n",
    "</font>\n",
    "</html>"
   ]
  },
  {
   "cell_type": "code",
   "execution_count": 110,
   "metadata": {
    "collapsed": true
   },
   "outputs": [],
   "source": [
    "from pyspark.ml.classification import DecisionTreeClassifier as DF"
   ]
  },
  {
   "cell_type": "code",
   "execution_count": 111,
   "metadata": {},
   "outputs": [],
   "source": [
    "dt = DF(maxDepth=6, labelCol=\"label\")"
   ]
  },
  {
   "cell_type": "code",
   "execution_count": 112,
   "metadata": {},
   "outputs": [],
   "source": [
    "model = dt.fit(trainingData)"
   ]
  },
  {
   "cell_type": "code",
   "execution_count": 113,
   "metadata": {},
   "outputs": [],
   "source": [
    "transformed = model.transform(testData)"
   ]
  },
  {
   "cell_type": "code",
   "execution_count": 114,
   "metadata": {},
   "outputs": [
    {
     "name": "stdout",
     "output_type": "stream",
     "text": [
      "+-----+--------------------+----------+\n",
      "|Churn|         probability|prediction|\n",
      "+-----+--------------------+----------+\n",
      "|    1|[0.22644497228820...|       1.0|\n",
      "|    1|[0.69613259668508...|       0.0|\n",
      "|    1|[0.30381383322559...|       1.0|\n",
      "|    1|[0.31547619047619...|       1.0|\n",
      "|    1|[0.59923664122137...|       0.0|\n",
      "+-----+--------------------+----------+\n",
      "only showing top 5 rows\n",
      "\n"
     ]
    }
   ],
   "source": [
    "transformed.select(\"Churn\", \"probability\", \"prediction\").show(5)"
   ]
  },
  {
   "cell_type": "code",
   "execution_count": 115,
   "metadata": {},
   "outputs": [
    {
     "name": "stdout",
     "output_type": "stream",
     "text": [
      "('Accuracy: ', 0.8145357030917678)\n"
     ]
    }
   ],
   "source": [
    "from pyspark.mllib.evaluation import BinaryClassificationMetrics as metric\n",
    "results = transformed.select(['probability', 'label'])\n",
    "\n",
    "results_collect = results.collect()\n",
    "results_list = [(float(i[0][0]), 1.0-float(i[1])) for i in results_collect]\n",
    "scoreAndLabels = sc.parallelize(results_list)\n",
    "\n",
    "metrics = metric(scoreAndLabels)\n",
    "print(\"Accuracy: \", metrics.areaUnderROC)"
   ]
  },
  {
   "cell_type": "code",
   "execution_count": 116,
   "metadata": {},
   "outputs": [
    {
     "data": {
      "image/png": "[encoded data removed]",
      "text/plain": [
       "<matplotlib.figure.Figure at 0x7fc77d474dd0>"
      ]
     },
     "metadata": {},
     "output_type": "display_data"
    }
   ],
   "source": [
    "from sklearn.metrics import roc_curve, auc\n",
    "\n",
    "fpr = dict()\n",
    "tpr = dict()\n",
    "roc_auc = dict()\n",
    "\n",
    "y_test = [i[1] for i in results_list]\n",
    "y_score = [i[0] for i in results_list]\n",
    "\n",
    "fpr, tpr, _ = roc_curve(y_test, y_score)\n",
    "roc_auc = auc(fpr, tpr)\n",
    "\n",
    "%matplotlib inline\n",
    "plt.figure()\n",
    "plt.plot(fpr, tpr, label='ROC curve (area = %0.2f)' % roc_auc)\n",
    "plt.plot([0, 1], [0, 1], 'k--')\n",
    "plt.xlim([0.0, 1.0])\n",
    "plt.ylim([0.0, 1.05])\n",
    "plt.xlabel('False Positive Rate')\n",
    "plt.ylabel('True Positive Rate')\n",
    "plt.title('ROC Curve')\n",
    "plt.legend(loc=\"lower right\")\n",
    "plt.show()"
   ]
  },
  {
   "cell_type": "markdown",
   "metadata": {},
   "source": [
    "<html>\n",
    "<font color = Purple size = 4>\n",
    "<b> Optimize model with Variable of Importance</b>\n",
    "</font>\n",
    "</html>"
   ]
  },
  {
   "cell_type": "markdown",
   "metadata": {},
   "source": [
    "<html>\n",
    "<font color = blue size = 4>\n",
    "<b> Optimize Random Forest</b>\n",
    "</font>\n",
    "</html>"
   ]
  },
  {
   "cell_type": "code",
   "execution_count": 117,
   "metadata": {},
   "outputs": [],
   "source": [
    "cols_now = ['LevelFlag','Class_DeathKnight','DaysPlayed','PlayerTenure','ZonesPlayed']\n",
    "assembler_features = VectorAssembler(inputCols=cols_now, outputCol='features')\n",
    "labelIndexer = StringIndexer(inputCol=\"Churn\", outputCol='label').fit(churndf)\n",
    "tmp = [assembler_features, labelIndexer]\n",
    "pipeline = Pipeline(stages=tmp)"
   ]
  },
  {
   "cell_type": "code",
   "execution_count": 118,
   "metadata": {
    "collapsed": true
   },
   "outputs": [],
   "source": [
    "rf = RF(labelCol='label', featuresCol='features',numTrees=30)\n",
    "fit = rf.fit(trainingData)\n",
    "transformed = fit.transform(testData)"
   ]
  },
  {
   "cell_type": "code",
   "execution_count": 119,
   "metadata": {},
   "outputs": [
    {
     "name": "stdout",
     "output_type": "stream",
     "text": [
      "+-----+--------------------+----------+\n",
      "|Churn|         probability|prediction|\n",
      "+-----+--------------------+----------+\n",
      "|    1|[0.39254122194260...|       1.0|\n",
      "|    1|[0.71429660591830...|       0.0|\n",
      "|    1|[0.26160624572436...|       1.0|\n",
      "|    1|[0.63316103479664...|       0.0|\n",
      "|    1|[0.60617262348066...|       0.0|\n",
      "+-----+--------------------+----------+\n",
      "only showing top 5 rows\n",
      "\n"
     ]
    }
   ],
   "source": [
    "transformed.select(\"Churn\", \"probability\", \"prediction\").show(5)"
   ]
  },
  {
   "cell_type": "code",
   "execution_count": 120,
   "metadata": {},
   "outputs": [
    {
     "name": "stdout",
     "output_type": "stream",
     "text": [
      "('Accuracy: ', 0.8069571775583774)\n"
     ]
    }
   ],
   "source": [
    "results = transformed.select(['probability', 'label'])\n",
    "\n",
    "results_collect = results.collect()\n",
    "results_list = [(float(i[0][0]), 1.0-float(i[1])) for i in results_collect]\n",
    "scoreAndLabels = sc.parallelize(results_list)\n",
    "\n",
    "metrics = metric(scoreAndLabels)\n",
    "print(\"Accuracy: \", metrics.areaUnderROC)"
   ]
  },
  {
   "cell_type": "code",
   "execution_count": 121,
   "metadata": {},
   "outputs": [
    {
     "name": "stdout",
     "output_type": "stream",
     "text": [
      "+----------------+----+----+\n",
      "|Churn_prediction| 0.0| 1.0|\n",
      "+----------------+----+----+\n",
      "|               1| 559|3641|\n",
      "|               0|2752|1502|\n",
      "+----------------+----+----+\n",
      "\n"
     ]
    }
   ],
   "source": [
    "transformed.crosstab('Churn', 'prediction').show()"
   ]
  },
  {
   "cell_type": "markdown",
   "metadata": {},
   "source": [
    "<html>\n",
    "<font color = blue size = 4>\n",
    "<b> Optimize DecisionTree</b>\n",
    "</font>\n",
    "</html>"
   ]
  },
  {
   "cell_type": "code",
   "execution_count": 122,
   "metadata": {},
   "outputs": [
    {
     "name": "stdout",
     "output_type": "stream",
     "text": [
      "+-----+--------------------+----------+\n",
      "|Churn|         probability|prediction|\n",
      "+-----+--------------------+----------+\n",
      "|    1|[0.28158844765342...|       1.0|\n",
      "|    1|[0.71428571428571...|       0.0|\n",
      "|    1|[0.18734793187347...|       1.0|\n",
      "|    1|           [0.0,1.0]|       1.0|\n",
      "|    1|[0.68604651162790...|       0.0|\n",
      "+-----+--------------------+----------+\n",
      "only showing top 5 rows\n",
      "\n"
     ]
    }
   ],
   "source": [
    "dt = DF(maxDepth=10, labelCol=\"label\")\n",
    "model = dt.fit(trainingData)\n",
    "transformed = model.transform(testData)\n",
    "transformed.select(\"Churn\", \"probability\", \"prediction\").show(5)"
   ]
  },
  {
   "cell_type": "code",
   "execution_count": 123,
   "metadata": {},
   "outputs": [
    {
     "name": "stdout",
     "output_type": "stream",
     "text": [
      "('Accuracy: ', 0.8152905108917098)\n"
     ]
    }
   ],
   "source": [
    "results = transformed.select(['probability', 'label'])\n",
    "\n",
    "results_collect = results.collect()\n",
    "results_list = [(float(i[0][0]), 1.0-float(i[1])) for i in results_collect]\n",
    "scoreAndLabels = sc.parallelize(results_list)\n",
    "\n",
    "metrics = metric(scoreAndLabels)\n",
    "print(\"Accuracy: \", metrics.areaUnderROC)"
   ]
  },
  {
   "cell_type": "code",
   "execution_count": 124,
   "metadata": {},
   "outputs": [
    {
     "name": "stdout",
     "output_type": "stream",
     "text": [
      "+----------------+----+----+\n",
      "|Churn_prediction| 0.0| 1.0|\n",
      "+----------------+----+----+\n",
      "|               1| 488|3712|\n",
      "|               0|2763|1491|\n",
      "+----------------+----+----+\n",
      "\n"
     ]
    }
   ],
   "source": [
    "transformed.crosstab('Churn', 'prediction').show()"
   ]
  },
  {
   "cell_type": "markdown",
   "metadata": {},
   "source": [
    "<html>\n",
    "<font color = blue size = 4>\n",
    "<b> Gradient-boosted tree classifier</b>\n",
    "</font>\n",
    "</html>"
   ]
  },
  {
   "cell_type": "code",
   "execution_count": 125,
   "metadata": {},
   "outputs": [],
   "source": [
    "from pyspark.ml.classification import GBTClassifier\n",
    "\n",
    "\n",
    "# Index labels, adding metadata to the label column.\n",
    "# Fit on whole dataset to include all labels in index.\n",
    "labelIndexer = StringIndexer(inputCol=\"Churn\", outputCol=\"indexedLabel\").fit(churndf)\n",
    "# Automatically identify categorical features, and index them.\n",
    "# Set maxCategories so features with > 4 distinct values are treated as continuous.\n",
    "cols_now = ['LevelFlag','Class_DeathKnight','DaysPlayed','PlayerTenure']\n",
    "featureIndexer =   VectorAssembler(inputCols=cols_now, outputCol=\"indexedFeatures\")"
   ]
  },
  {
   "cell_type": "code",
   "execution_count": 126,
   "metadata": {},
   "outputs": [],
   "source": [
    "# Split the data into training and test sets (30% held out for testing)\n",
    "(trainingData, testData) = churndf.randomSplit([0.7, 0.3])"
   ]
  },
  {
   "cell_type": "code",
   "execution_count": 127,
   "metadata": {
    "collapsed": true
   },
   "outputs": [],
   "source": [
    "# Train a GBT model.\n",
    "gbt = GBTClassifier(labelCol=\"indexedLabel\", featuresCol=\"indexedFeatures\", maxIter=10)"
   ]
  },
  {
   "cell_type": "code",
   "execution_count": 128,
   "metadata": {},
   "outputs": [],
   "source": [
    "# Chain indexers and GBT in a Pipeline\n",
    "pipeline = Pipeline(stages=[labelIndexer, featureIndexer, gbt])"
   ]
  },
  {
   "cell_type": "code",
   "execution_count": 129,
   "metadata": {
    "collapsed": true
   },
   "outputs": [],
   "source": [
    "# Train model.  This also runs the indexers.\n",
    "model = pipeline.fit(trainingData)"
   ]
  },
  {
   "cell_type": "code",
   "execution_count": 130,
   "metadata": {
    "collapsed": true
   },
   "outputs": [],
   "source": [
    "# Make predictions.\n",
    "predictions = model.transform(testData)"
   ]
  },
  {
   "cell_type": "code",
   "execution_count": 131,
   "metadata": {},
   "outputs": [
    {
     "name": "stdout",
     "output_type": "stream",
     "text": [
      "+----------+------------+\n",
      "|prediction|indexedLabel|\n",
      "+----------+------------+\n",
      "|       0.0|         1.0|\n",
      "|       0.0|         1.0|\n",
      "|       0.0|         1.0|\n",
      "|       0.0|         1.0|\n",
      "|       0.0|         1.0|\n",
      "+----------+------------+\n",
      "only showing top 5 rows\n",
      "\n"
     ]
    }
   ],
   "source": [
    "# Select example rows to display.\n",
    "predictions.select(\"prediction\", \"indexedLabel\").show(5)"
   ]
  },
  {
   "cell_type": "code",
   "execution_count": 132,
   "metadata": {},
   "outputs": [
    {
     "name": "stdout",
     "output_type": "stream",
     "text": [
      "('Accuracy: ', 0.7877093775804722)\n"
     ]
    }
   ],
   "source": [
    "results = predictions.select(['probability', 'indexedLabel','prediction'])\n",
    "\n",
    "results_collect = results.collect()\n",
    "results_list = [(float(i[0][0]), 1.0-float(i[1])) for i in results_collect]\n",
    "scoreAndLabels = sc.parallelize(results_list)\n",
    "\n",
    "metrics = metric(scoreAndLabels)\n",
    "print(\"Accuracy: \", metrics.areaUnderROC)"
   ]
  },
  {
   "cell_type": "code",
   "execution_count": 133,
   "metadata": {},
   "outputs": [
    {
     "name": "stdout",
     "output_type": "stream",
     "text": [
      "+----------------+----+----+\n",
      "|Churn_prediction| 0.0| 1.0|\n",
      "+----------------+----+----+\n",
      "|               1| 606|3703|\n",
      "|               0|2654|1524|\n",
      "+----------------+----+----+\n",
      "\n"
     ]
    }
   ],
   "source": [
    " predictions.crosstab('Churn','prediction').show()"
   ]
  },
  {
   "cell_type": "code",
   "execution_count": 134,
   "metadata": {},
   "outputs": [
    {
     "name": "stdout",
     "output_type": "stream",
     "text": [
      "GBTClassificationModel (uid=GBTClassifier_476bbbd40601071488b6) with 10 trees\n"
     ]
    }
   ],
   "source": [
    "gbtModel = model.stages[2]\n",
    "print(gbtModel)  # summary only"
   ]
  },
  {
   "cell_type": "markdown",
   "metadata": {},
   "source": [
    "<html>\n",
    "<font color = blue size = 4>\n",
    "<b> DecisionTree with or without regularization gives the better training accuracy of 81% and test accuracy of 70% compared to Random Forest classifier and Gradient-boosted tree classifier. <br />\n",
    "The values of False Positive and False Negative are also lesser compared to other two models.</b>\n",
    "</font>\n",
    "</html>"
   ]
  }
 ],
 "metadata": {
  "kernelspec": {
   "display_name": "Python 3",
   "language": "python",
   "name": "python3"
  },
  "language_info": {
   "codemirror_mode": {
    "name": "ipython",
    "version": 3
   },
   "file_extension": ".py",
   "mimetype": "text/x-python",
   "name": "python",
   "nbconvert_exporter": "python",
   "pygments_lexer": "ipython3",
   "version": "3.6.3"
  }
 },
 "nbformat": 4,
 "nbformat_minor": 2
}
